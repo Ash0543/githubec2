import plotly.graph_objects as go

anaemia = heart_failure_df[heart_failure_df["anaemia"]==1]
no_anaemia = heart_failure_df[heart_failure_df["anaemia"]==0]

fig = go.Figure(go.Pie(
    title="Why does anaemia affect death events so little?",
    values=[len(anaemia[heart_failure_df["DEATH_EVENT"]==1]),
           len(anaemia[heart_failure_df["DEATH_EVENT"]==0]),
           len(no_anaemia[heart_failure_df["DEATH_EVENT"]==1]),
           len(no_anaemia[heart_failure_df["DEATH_EVENT"]==0])],
    labels=["Anaemia + No Survived",
          "Anaemia + Survived",
          "No Anaemia + No Survived",
          "No Anaemia + Survived"],
    hovertemplate = "%{label}: <br>Rate: %{percent} </br> %{text}"
))

fig.show()
